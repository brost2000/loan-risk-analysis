{
 "cells": [
  {
   "cell_type": "code",
   "execution_count": 54,
   "id": "e6c02378",
   "metadata": {},
   "outputs": [],
   "source": [
    "import pandas as pd\n",
    "\n",
    "df = pd.read_csv(f\"/Users/alexanderbrost/Desktop/root/py/LoanDataset - LoansDatasest.csv\")"
   ]
  },
  {
   "cell_type": "code",
   "execution_count": 55,
   "id": "bfcef4b8",
   "metadata": {},
   "outputs": [
    {
     "name": "stdout",
     "output_type": "stream",
     "text": [
      "<class 'pandas.core.frame.DataFrame'>\n",
      "RangeIndex: 32586 entries, 0 to 32585\n",
      "Data columns (total 13 columns):\n",
      " #   Column               Non-Null Count  Dtype  \n",
      "---  ------               --------------  -----  \n",
      " 0   customer_id          32583 non-null  float64\n",
      " 1   customer_age         32586 non-null  int64  \n",
      " 2   customer_income      32586 non-null  object \n",
      " 3   home_ownership       32586 non-null  object \n",
      " 4   employment_duration  31691 non-null  float64\n",
      " 5   loan_intent          32586 non-null  object \n",
      " 6   loan_grade           32586 non-null  object \n",
      " 7   loan_amnt            32585 non-null  object \n",
      " 8   loan_int_rate        29470 non-null  float64\n",
      " 9   term_years           32586 non-null  int64  \n",
      " 10  historical_default   11849 non-null  object \n",
      " 11  cred_hist_length     32586 non-null  int64  \n",
      " 12  Current_loan_status  32582 non-null  object \n",
      "dtypes: float64(3), int64(3), object(7)\n",
      "memory usage: 3.2+ MB\n",
      "   customer_id  customer_age customer_income home_ownership  \\\n",
      "0          1.0            22           59000           RENT   \n",
      "1          2.0            21            9600            OWN   \n",
      "2          3.0            25            9600       MORTGAGE   \n",
      "3          4.0            23           65500           RENT   \n",
      "4          5.0            24           54400           RENT   \n",
      "\n",
      "   employment_duration loan_intent loan_grade   loan_amnt  loan_int_rate  \\\n",
      "0                123.0    PERSONAL          C  £35,000.00          16.02   \n",
      "1                  5.0   EDUCATION          A   £1,000.00          11.14   \n",
      "2                  1.0     MEDICAL          B   £5,500.00          12.87   \n",
      "3                  4.0     MEDICAL          B  £35,000.00          15.23   \n",
      "4                  8.0     MEDICAL          B  £35,000.00          14.27   \n",
      "\n",
      "   term_years historical_default  cred_hist_length Current_loan_status  \n",
      "0          10                  Y                 3             DEFAULT  \n",
      "1           1                NaN                 2          NO DEFAULT  \n",
      "2           5                  N                 3             DEFAULT  \n",
      "3          10                  N                 2             DEFAULT  \n",
      "4          10                  Y                 4             DEFAULT   \n",
      " None \n",
      "         customer_id  customer_age  employment_duration  loan_int_rate  \\\n",
      "count  32583.000000  32586.000000         31691.000000   29470.000000   \n",
      "mean   16289.497806     27.732769             4.790161      11.011553   \n",
      "std     9405.919628      6.360528             4.142746       3.240440   \n",
      "min        1.000000      3.000000             0.000000       5.420000   \n",
      "25%     8144.500000     23.000000             2.000000       7.900000   \n",
      "50%    16288.000000     26.000000             4.000000      10.990000   \n",
      "75%    24433.500000     30.000000             7.000000      13.470000   \n",
      "max    32581.000000    144.000000           123.000000      23.220000   \n",
      "\n",
      "         term_years  cred_hist_length  \n",
      "count  32586.000000      32586.000000  \n",
      "mean       4.761738          5.804026  \n",
      "std        2.471107          4.055078  \n",
      "min        1.000000          2.000000  \n",
      "25%        3.000000          3.000000  \n",
      "50%        4.000000          4.000000  \n",
      "75%        7.000000          8.000000  \n",
      "max       10.000000         30.000000  \n"
     ]
    }
   ],
   "source": [
    "# basic data cleaning \n",
    "\n",
    "print(\n",
    "   df.head(), '\\n', \n",
    "   df.info(), '\\n',\n",
    "   df.describe() \n",
    ")\n",
    "\n",
    "# interested in loan amount, loan status, interest rate, credit hist, age, and income\n",
    "\n",
    "df['loan_amnt'] = df['loan_amnt'].replace('[£,]', '', regex=True).astype(float) # currency to float\n",
    "df['customer_income'] = df['customer_income'].replace('[£,]', '', regex=True).astype(float) # currency to float\n",
    "df['customer_id'] = df['customer_id'].astype('Int64') \n",
    "\n",
    "# historical default is Y/N - convert to binary\n",
    "\n",
    "df['historical_default'] = df['historical_default'].map({'Y': 1, 'N': 0})"
   ]
  },
  {
   "cell_type": "code",
   "execution_count": 56,
   "id": "94ac1f1d",
   "metadata": {},
   "outputs": [],
   "source": [
    "# cleaning up some str data\n",
    "str_cols = ['home_ownership', 'loan_intent', 'loan_grade', 'Current_loan_status']\n",
    "for col in str_cols:\n",
    "    df[col] = df[col].str.strip().str.upper()\n",
    "\n",
    "# categorical - for analysis\n",
    "df['home_ownership'] = df['home_ownership'].astype('category')"
   ]
  },
  {
   "cell_type": "code",
   "execution_count": 57,
   "id": "a778a7f5",
   "metadata": {},
   "outputs": [
    {
     "name": "stdout",
     "output_type": "stream",
     "text": [
      "Missing values per column:\n",
      " historical_default     20737\n",
      "loan_int_rate           3116\n",
      "employment_duration      895\n",
      "Current_loan_status        4\n",
      "customer_id                3\n",
      "loan_amnt                  1\n",
      "customer_age               0\n",
      "customer_income            0\n",
      "home_ownership             0\n",
      "loan_intent                0\n",
      "loan_grade                 0\n",
      "term_years                 0\n",
      "cred_hist_length           0\n",
      "dtype: int64\n"
     ]
    }
   ],
   "source": [
    "# drop null rows in important analysis colummns\n",
    "clean_df = df.dropna(subset = [\n",
    "    'customer_income', \n",
    "    'loan_amnt', \n",
    "    'loan_int_rate', \n",
    "    'Current_loan_status',\n",
    "    'employment_duration',\n",
    "    'cred_hist_length',\n",
    "    'loan_intent',\n",
    "    'loan_grade'\n",
    "])\n",
    "\n",
    "clean_df = clean_df[clean_df['customer_age'] < 116]  # age of current oldest person\n",
    "clean_df = clean_df[clean_df['employment_duration'] < 65] # retirement age in USA is 65\n",
    "\n",
    "missing_summary = df.isnull().sum().sort_values(ascending = False)\n",
    "print(\"Missing values per column:\\n\", missing_summary)\n",
    "\n",
    "clean_df.head()\n",
    "clean_df.to_csv(f\"/Users/alexanderbrost/Desktop/root/py/LoanDataset_clean.csv\")"
   ]
  }
 ],
 "metadata": {
  "kernelspec": {
   "display_name": ".venv",
   "language": "python",
   "name": "python3"
  },
  "language_info": {
   "codemirror_mode": {
    "name": "ipython",
    "version": 3
   },
   "file_extension": ".py",
   "mimetype": "text/x-python",
   "name": "python",
   "nbconvert_exporter": "python",
   "pygments_lexer": "ipython3",
   "version": "3.13.2"
  }
 },
 "nbformat": 4,
 "nbformat_minor": 5
}
